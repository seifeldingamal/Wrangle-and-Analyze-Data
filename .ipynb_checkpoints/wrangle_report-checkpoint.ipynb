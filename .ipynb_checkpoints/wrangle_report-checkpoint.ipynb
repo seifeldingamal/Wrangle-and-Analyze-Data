{
 "cells": [
  {
   "cell_type": "markdown",
   "metadata": {},
   "source": [
    "# Gather\n",
    "### There was 3 data files required to be had to start the wrangling process\n",
    "- twitter-archive-enhanced.csv, which contains most of the data required for analysis, was manually downloaded directly from the project resource tab.\n",
    "- tweet.csv (my naming to that data file), which contained data missing from the previous data file.\n",
    "    - I used tweepy to access Twitter's API, then follow the given steps, I gave the funtion the tweet_id column as reference and retrieved json information of every available tweet in a .txt file\n",
    "    - I used what I learned to about json library to extract on the data I wanted, which was (tweet_id,favorit_count,retweet_count)\n",
    "    - Those were save to a dictionary then onto a dataframe, then I save the dataframe as a .csv file.\n",
    "- image-predictions.tsv, which contains the results of a photo prediction algorithm applied to a photo of almost every tweet that has a rating, this one was downloading via code then read using pd.read_csv with a tab as the seperator."
   ]
  },
  {
   "cell_type": "markdown",
   "metadata": {},
   "source": [
    "# Assess\n",
    "### Knowing how did the data looked in its current form and stating the problems that might occur\n",
    "#### Quality issues found:\n",
    "- Scrolling through the rows for a while started showing some problems:\n",
    "    - columns with NaN values in `twitter-archive-enhanced` (in_reply_to_user_id - in_reply_to_status_id - in_reply_to_user_id columns - retweeted_status_id - retweeted_status_user_id - retweeted_status_timestamp).\n",
    "    - source column in `twitter-archive-enhanced` was still had the html tag format.\n",
    "    - Many cells in the last 4 columns of `twitter-archive-enhanced` had \"None\" as a value (doggo - floofer - pupper - puppo).\n",
    "    - Many cells in name colum of `twitter-archive-enhanced` had \"None\" as a value.\n",
    "    - Inconsistent upper\\lower case strings in columns of `image-predictions.tsv` (p1 - p2 - p3).\n",
    "    - In `image-predictions.tsv` rating_denominator had non 10 valued cells despite that their ratings are always with respect to 10.\n",
    "- Using programatic assessment showed me more problems:\n",
    "    - Many data types were inappropriate to the values (timestamp, retweeted_status_id - retweeted_status_user_id - retweeted_status_timestamp)\n",
    "    - Missing values in expanded_urls columns `twitter-archive-enhanced`.\n",
    "    \n",
    "#### tidiness issues found:\n",
    "- To fix the first 2 issues in quality we can just ignore the reply tweets and the retweets and and drop their data columns columns.\n",
    "- Alternatively those rows can be stored separatly, each type of tweets in a different table.\n",
    "- 1 variable in 4 columns in `twitter-archive-enhanced` table (doggo - floofer - pupper - puppo).\n",
    "- `tweet` should be part of the `twitter-archive-enhanced` table.\n",
    "- Since in 'ratings_denominator' in `twitter-archive-enhanced` should always be 10, this column can be dropped."
   ]
  },
  {
   "cell_type": "markdown",
   "metadata": {},
   "source": [
    "# Clean\n",
    "### Attempting to eliminate the discovered issues and getting a clean dataset\n",
    "\n",
    "##### `twitter_arch`: Missing values rows from 6 columns ( 2000+ cell).\n",
    "    - Drop out the columns with missing data because their data aren't enough and will not be used anyway.\n",
    "##### Alternative solution to keep data.\n",
    "    - each type of tweets ( in reply to, retweeted) in its own dataframe.\n",
    "##### `twitter_arch`: Missing values in extended urls (2297 instead of 2356).\n",
    "    - Create each row's extended url from its tweet_id.\n",
    "##### `twitter_arch` 'source' coulmn have pure html tags.\n",
    "    - Strip the tags with a regex.\n",
    "##### `twitter_arch` Invalide 'rating_numerator' and 'rating_denominator' values (too high/wrong values).\n",
    "    - Find the ratings with a better regex.\n",
    "##### Erroneous datatypes.\n",
    "###### `twitter_arch`  (timestamp) the others are dropped.\n",
    "###### `Clean_retweeted` (retweeted_status_id, retweeted_status_user_id and retweeted_status_timestamp).\n",
    "###### `Clean_in_reply_to`(in_reply_to_status_id , in_reply_to_user_id).\n",
    "    - Just changing the data type.\n",
    "##### 'name' column in `clean_twitter_arch` had many none name strings.\n",
    "    - Changing them to either names from text or non using a regex.\n",
    "##### Dog stages columns in `clean_twitter_arch` had many none name strings.\n",
    "    - Tried to find the definitions' keywords in 'text' columns but that did not find anymore values.\n",
    "##### `image_pred` table has inconsistent upper/lower strings in 'p1' 'p2' 'p3'.\n",
    "    - Just change that with a simple single line for every column.\n",
    "##### 1 variable in 4 columns in `twitter_arch` table (doggo, floofer, pupper and puppo).\n",
    "    - Creating a new coulmn 'dog_stage' and filling it with one of the values for each row.\n",
    "##### `tweets` should be part of the `twitter_arch` table.\n",
    "    - Merging both dataframes on tweet_id column.\n",
    "        + Last merge made it that some tweets dont have values in the added columns as they were absent in the dataframe retrived from Twitter.\n",
    "        + They are both unavailable and cannot be added manually.\n",
    "        + It always somehow changed the datatype of those columns from int to float.\n",
    "            ~ Drop those rows and change datatype of the added columns to int.\n",
    "##### Since in 'rating_denominator' in `twitter_archive_master` should always be 10, this column can be dropped.\n",
    "    - Droping the column.\n",
    "##### Saving the cleaned dataframes into csv files."
   ]
  }
 ],
 "metadata": {
  "kernelspec": {
   "display_name": "Python 3",
   "language": "python",
   "name": "python3"
  },
  "language_info": {
   "codemirror_mode": {
    "name": "ipython",
    "version": 3
   },
   "file_extension": ".py",
   "mimetype": "text/x-python",
   "name": "python",
   "nbconvert_exporter": "python",
   "pygments_lexer": "ipython3",
   "version": "3.7.3"
  }
 },
 "nbformat": 4,
 "nbformat_minor": 2
}
